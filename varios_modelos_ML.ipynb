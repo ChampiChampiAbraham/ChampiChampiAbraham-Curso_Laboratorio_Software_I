{
  "nbformat": 4,
  "nbformat_minor": 0,
  "metadata": {
    "colab": {
      "name": "varios_modelos_ML.ipynb",
      "provenance": [],
      "collapsed_sections": [],
      "include_colab_link": true
    },
    "kernelspec": {
      "name": "python3",
      "display_name": "Python 3"
    },
    "language_info": {
      "name": "python"
    }
  },
  "cells": [
    {
      "cell_type": "markdown",
      "metadata": {
        "id": "view-in-github",
        "colab_type": "text"
      },
      "source": [
        "<a href=\"https://colab.research.google.com/github/ChampiChampiAbraham/Curso_Laboratorio_Software_I/blob/master/varios_modelos_ML.ipynb\" target=\"_parent\"><img src=\"https://colab.research.google.com/assets/colab-badge.svg\" alt=\"Open In Colab\"/></a>"
      ]
    },
    {
      "cell_type": "markdown",
      "source": [
        "# **Problema:** \n",
        "\n",
        "Construir modelos de aprendizaje automático y entrenarlos, para detectar cáncer de seno. \n",
        "\n",
        "Las variables son constituidas como predictores que pueden ser parametrizadas y servir como biomarcadores de cáncer.\n",
        "\n",
        "Variable respuesta:\n",
        "\n",
        "1: pacientes saludables.\n",
        "\n",
        "2: pacientes enfermos."
      ],
      "metadata": {
        "id": "Ptfz8-7_3ZsP"
      }
    },
    {
      "cell_type": "markdown",
      "source": [
        "# **1. Lectura de datos**"
      ],
      "metadata": {
        "id": "z66kNczZ4q5J"
      }
    },
    {
      "cell_type": "code",
      "execution_count": null,
      "metadata": {
        "colab": {
          "base_uri": "https://localhost:8080/",
          "height": 424
        },
        "id": "g3bSMB_d2W_w",
        "outputId": "cb6ff5a3-b387-4af4-f29a-706242d44f81"
      },
      "outputs": [
        {
          "output_type": "execute_result",
          "data": {
            "text/plain": [
              "     Age        BMI  Glucose  Insulin      HOMA   Leptin  Adiponectin  \\\n",
              "0     48  23.500000       70    2.707  0.467409   8.8071     9.702400   \n",
              "1     83  20.690495       92    3.115  0.706897   8.8438     5.429285   \n",
              "2     82  23.124670       91    4.498  1.009651  17.9393    22.432040   \n",
              "3     68  21.367521       77    3.226  0.612725   9.8827     7.169560   \n",
              "4     86  21.111111       92    3.549  0.805386   6.6994     4.819240   \n",
              "..   ...        ...      ...      ...       ...      ...          ...   \n",
              "111   45  26.850000       92    3.330  0.755688  54.6800    12.100000   \n",
              "112   62  26.840000      100    4.530  1.117400  12.4500    21.420000   \n",
              "113   65  32.050000       97    5.730  1.370998  61.4800    22.540000   \n",
              "114   72  25.590000       82    2.820  0.570392  24.9600    33.750000   \n",
              "115   86  27.180000      138   19.910  6.777364  90.2800    14.110000   \n",
              "\n",
              "     Resistin    MCP.1  Classification  \n",
              "0     7.99585  417.114               1  \n",
              "1     4.06405  468.786               1  \n",
              "2     9.27715  554.697               1  \n",
              "3    12.76600  928.220               1  \n",
              "4    10.57635  773.920               1  \n",
              "..        ...      ...             ...  \n",
              "111  10.96000  268.230               2  \n",
              "112   7.32000  330.160               2  \n",
              "113  10.33000  314.050               2  \n",
              "114   3.27000  392.460               2  \n",
              "115   4.35000   90.090               2  \n",
              "\n",
              "[116 rows x 10 columns]"
            ],
            "text/html": [
              "\n",
              "  <div id=\"df-6414c4a4-dcd9-441e-884a-f83d8b60bfc9\">\n",
              "    <div class=\"colab-df-container\">\n",
              "      <div>\n",
              "<style scoped>\n",
              "    .dataframe tbody tr th:only-of-type {\n",
              "        vertical-align: middle;\n",
              "    }\n",
              "\n",
              "    .dataframe tbody tr th {\n",
              "        vertical-align: top;\n",
              "    }\n",
              "\n",
              "    .dataframe thead th {\n",
              "        text-align: right;\n",
              "    }\n",
              "</style>\n",
              "<table border=\"1\" class=\"dataframe\">\n",
              "  <thead>\n",
              "    <tr style=\"text-align: right;\">\n",
              "      <th></th>\n",
              "      <th>Age</th>\n",
              "      <th>BMI</th>\n",
              "      <th>Glucose</th>\n",
              "      <th>Insulin</th>\n",
              "      <th>HOMA</th>\n",
              "      <th>Leptin</th>\n",
              "      <th>Adiponectin</th>\n",
              "      <th>Resistin</th>\n",
              "      <th>MCP.1</th>\n",
              "      <th>Classification</th>\n",
              "    </tr>\n",
              "  </thead>\n",
              "  <tbody>\n",
              "    <tr>\n",
              "      <th>0</th>\n",
              "      <td>48</td>\n",
              "      <td>23.500000</td>\n",
              "      <td>70</td>\n",
              "      <td>2.707</td>\n",
              "      <td>0.467409</td>\n",
              "      <td>8.8071</td>\n",
              "      <td>9.702400</td>\n",
              "      <td>7.99585</td>\n",
              "      <td>417.114</td>\n",
              "      <td>1</td>\n",
              "    </tr>\n",
              "    <tr>\n",
              "      <th>1</th>\n",
              "      <td>83</td>\n",
              "      <td>20.690495</td>\n",
              "      <td>92</td>\n",
              "      <td>3.115</td>\n",
              "      <td>0.706897</td>\n",
              "      <td>8.8438</td>\n",
              "      <td>5.429285</td>\n",
              "      <td>4.06405</td>\n",
              "      <td>468.786</td>\n",
              "      <td>1</td>\n",
              "    </tr>\n",
              "    <tr>\n",
              "      <th>2</th>\n",
              "      <td>82</td>\n",
              "      <td>23.124670</td>\n",
              "      <td>91</td>\n",
              "      <td>4.498</td>\n",
              "      <td>1.009651</td>\n",
              "      <td>17.9393</td>\n",
              "      <td>22.432040</td>\n",
              "      <td>9.27715</td>\n",
              "      <td>554.697</td>\n",
              "      <td>1</td>\n",
              "    </tr>\n",
              "    <tr>\n",
              "      <th>3</th>\n",
              "      <td>68</td>\n",
              "      <td>21.367521</td>\n",
              "      <td>77</td>\n",
              "      <td>3.226</td>\n",
              "      <td>0.612725</td>\n",
              "      <td>9.8827</td>\n",
              "      <td>7.169560</td>\n",
              "      <td>12.76600</td>\n",
              "      <td>928.220</td>\n",
              "      <td>1</td>\n",
              "    </tr>\n",
              "    <tr>\n",
              "      <th>4</th>\n",
              "      <td>86</td>\n",
              "      <td>21.111111</td>\n",
              "      <td>92</td>\n",
              "      <td>3.549</td>\n",
              "      <td>0.805386</td>\n",
              "      <td>6.6994</td>\n",
              "      <td>4.819240</td>\n",
              "      <td>10.57635</td>\n",
              "      <td>773.920</td>\n",
              "      <td>1</td>\n",
              "    </tr>\n",
              "    <tr>\n",
              "      <th>...</th>\n",
              "      <td>...</td>\n",
              "      <td>...</td>\n",
              "      <td>...</td>\n",
              "      <td>...</td>\n",
              "      <td>...</td>\n",
              "      <td>...</td>\n",
              "      <td>...</td>\n",
              "      <td>...</td>\n",
              "      <td>...</td>\n",
              "      <td>...</td>\n",
              "    </tr>\n",
              "    <tr>\n",
              "      <th>111</th>\n",
              "      <td>45</td>\n",
              "      <td>26.850000</td>\n",
              "      <td>92</td>\n",
              "      <td>3.330</td>\n",
              "      <td>0.755688</td>\n",
              "      <td>54.6800</td>\n",
              "      <td>12.100000</td>\n",
              "      <td>10.96000</td>\n",
              "      <td>268.230</td>\n",
              "      <td>2</td>\n",
              "    </tr>\n",
              "    <tr>\n",
              "      <th>112</th>\n",
              "      <td>62</td>\n",
              "      <td>26.840000</td>\n",
              "      <td>100</td>\n",
              "      <td>4.530</td>\n",
              "      <td>1.117400</td>\n",
              "      <td>12.4500</td>\n",
              "      <td>21.420000</td>\n",
              "      <td>7.32000</td>\n",
              "      <td>330.160</td>\n",
              "      <td>2</td>\n",
              "    </tr>\n",
              "    <tr>\n",
              "      <th>113</th>\n",
              "      <td>65</td>\n",
              "      <td>32.050000</td>\n",
              "      <td>97</td>\n",
              "      <td>5.730</td>\n",
              "      <td>1.370998</td>\n",
              "      <td>61.4800</td>\n",
              "      <td>22.540000</td>\n",
              "      <td>10.33000</td>\n",
              "      <td>314.050</td>\n",
              "      <td>2</td>\n",
              "    </tr>\n",
              "    <tr>\n",
              "      <th>114</th>\n",
              "      <td>72</td>\n",
              "      <td>25.590000</td>\n",
              "      <td>82</td>\n",
              "      <td>2.820</td>\n",
              "      <td>0.570392</td>\n",
              "      <td>24.9600</td>\n",
              "      <td>33.750000</td>\n",
              "      <td>3.27000</td>\n",
              "      <td>392.460</td>\n",
              "      <td>2</td>\n",
              "    </tr>\n",
              "    <tr>\n",
              "      <th>115</th>\n",
              "      <td>86</td>\n",
              "      <td>27.180000</td>\n",
              "      <td>138</td>\n",
              "      <td>19.910</td>\n",
              "      <td>6.777364</td>\n",
              "      <td>90.2800</td>\n",
              "      <td>14.110000</td>\n",
              "      <td>4.35000</td>\n",
              "      <td>90.090</td>\n",
              "      <td>2</td>\n",
              "    </tr>\n",
              "  </tbody>\n",
              "</table>\n",
              "<p>116 rows × 10 columns</p>\n",
              "</div>\n",
              "      <button class=\"colab-df-convert\" onclick=\"convertToInteractive('df-6414c4a4-dcd9-441e-884a-f83d8b60bfc9')\"\n",
              "              title=\"Convert this dataframe to an interactive table.\"\n",
              "              style=\"display:none;\">\n",
              "        \n",
              "  <svg xmlns=\"http://www.w3.org/2000/svg\" height=\"24px\"viewBox=\"0 0 24 24\"\n",
              "       width=\"24px\">\n",
              "    <path d=\"M0 0h24v24H0V0z\" fill=\"none\"/>\n",
              "    <path d=\"M18.56 5.44l.94 2.06.94-2.06 2.06-.94-2.06-.94-.94-2.06-.94 2.06-2.06.94zm-11 1L8.5 8.5l.94-2.06 2.06-.94-2.06-.94L8.5 2.5l-.94 2.06-2.06.94zm10 10l.94 2.06.94-2.06 2.06-.94-2.06-.94-.94-2.06-.94 2.06-2.06.94z\"/><path d=\"M17.41 7.96l-1.37-1.37c-.4-.4-.92-.59-1.43-.59-.52 0-1.04.2-1.43.59L10.3 9.45l-7.72 7.72c-.78.78-.78 2.05 0 2.83L4 21.41c.39.39.9.59 1.41.59.51 0 1.02-.2 1.41-.59l7.78-7.78 2.81-2.81c.8-.78.8-2.07 0-2.86zM5.41 20L4 18.59l7.72-7.72 1.47 1.35L5.41 20z\"/>\n",
              "  </svg>\n",
              "      </button>\n",
              "      \n",
              "  <style>\n",
              "    .colab-df-container {\n",
              "      display:flex;\n",
              "      flex-wrap:wrap;\n",
              "      gap: 12px;\n",
              "    }\n",
              "\n",
              "    .colab-df-convert {\n",
              "      background-color: #E8F0FE;\n",
              "      border: none;\n",
              "      border-radius: 50%;\n",
              "      cursor: pointer;\n",
              "      display: none;\n",
              "      fill: #1967D2;\n",
              "      height: 32px;\n",
              "      padding: 0 0 0 0;\n",
              "      width: 32px;\n",
              "    }\n",
              "\n",
              "    .colab-df-convert:hover {\n",
              "      background-color: #E2EBFA;\n",
              "      box-shadow: 0px 1px 2px rgba(60, 64, 67, 0.3), 0px 1px 3px 1px rgba(60, 64, 67, 0.15);\n",
              "      fill: #174EA6;\n",
              "    }\n",
              "\n",
              "    [theme=dark] .colab-df-convert {\n",
              "      background-color: #3B4455;\n",
              "      fill: #D2E3FC;\n",
              "    }\n",
              "\n",
              "    [theme=dark] .colab-df-convert:hover {\n",
              "      background-color: #434B5C;\n",
              "      box-shadow: 0px 1px 3px 1px rgba(0, 0, 0, 0.15);\n",
              "      filter: drop-shadow(0px 1px 2px rgba(0, 0, 0, 0.3));\n",
              "      fill: #FFFFFF;\n",
              "    }\n",
              "  </style>\n",
              "\n",
              "      <script>\n",
              "        const buttonEl =\n",
              "          document.querySelector('#df-6414c4a4-dcd9-441e-884a-f83d8b60bfc9 button.colab-df-convert');\n",
              "        buttonEl.style.display =\n",
              "          google.colab.kernel.accessAllowed ? 'block' : 'none';\n",
              "\n",
              "        async function convertToInteractive(key) {\n",
              "          const element = document.querySelector('#df-6414c4a4-dcd9-441e-884a-f83d8b60bfc9');\n",
              "          const dataTable =\n",
              "            await google.colab.kernel.invokeFunction('convertToInteractive',\n",
              "                                                     [key], {});\n",
              "          if (!dataTable) return;\n",
              "\n",
              "          const docLinkHtml = 'Like what you see? Visit the ' +\n",
              "            '<a target=\"_blank\" href=https://colab.research.google.com/notebooks/data_table.ipynb>data table notebook</a>'\n",
              "            + ' to learn more about interactive tables.';\n",
              "          element.innerHTML = '';\n",
              "          dataTable['output_type'] = 'display_data';\n",
              "          await google.colab.output.renderOutput(dataTable, element);\n",
              "          const docLink = document.createElement('div');\n",
              "          docLink.innerHTML = docLinkHtml;\n",
              "          element.appendChild(docLink);\n",
              "        }\n",
              "      </script>\n",
              "    </div>\n",
              "  </div>\n",
              "  "
            ]
          },
          "metadata": {},
          "execution_count": 1
        }
      ],
      "source": [
        "import pandas as pd\n",
        "\n",
        "data = pd.read_csv('cancer_mamas.csv')\n",
        "data"
      ]
    },
    {
      "cell_type": "markdown",
      "source": [
        "# **2. Exploración de datos.**\n"
      ],
      "metadata": {
        "id": "F9XBVgHs6YVj"
      }
    },
    {
      "cell_type": "code",
      "source": [
        "# información de las características\n",
        "data.info()"
      ],
      "metadata": {
        "colab": {
          "base_uri": "https://localhost:8080/"
        },
        "id": "zYXk-lIRjvu4",
        "outputId": "f532b06b-9bb2-44ae-8754-c0906fbbcf6a"
      },
      "execution_count": null,
      "outputs": [
        {
          "output_type": "stream",
          "name": "stdout",
          "text": [
            "<class 'pandas.core.frame.DataFrame'>\n",
            "RangeIndex: 116 entries, 0 to 115\n",
            "Data columns (total 10 columns):\n",
            " #   Column          Non-Null Count  Dtype  \n",
            "---  ------          --------------  -----  \n",
            " 0   Age             116 non-null    int64  \n",
            " 1   BMI             116 non-null    float64\n",
            " 2   Glucose         116 non-null    int64  \n",
            " 3   Insulin         116 non-null    float64\n",
            " 4   HOMA            116 non-null    float64\n",
            " 5   Leptin          116 non-null    float64\n",
            " 6   Adiponectin     116 non-null    float64\n",
            " 7   Resistin        116 non-null    float64\n",
            " 8   MCP.1           116 non-null    float64\n",
            " 9   Classification  116 non-null    int64  \n",
            "dtypes: float64(7), int64(3)\n",
            "memory usage: 9.2 KB\n"
          ]
        }
      ]
    },
    {
      "cell_type": "code",
      "source": [
        "# cuantos datos de la característica Clasificación existe?\n",
        "data[\"Classification\"].value_counts()"
      ],
      "metadata": {
        "colab": {
          "base_uri": "https://localhost:8080/"
        },
        "id": "nV108afFmQP_",
        "outputId": "de6841ae-c7d5-46e7-f475-9c5c27bed517"
      },
      "execution_count": null,
      "outputs": [
        {
          "output_type": "execute_result",
          "data": {
            "text/plain": [
              "2    64\n",
              "1    52\n",
              "Name: Classification, dtype: int64"
            ]
          },
          "metadata": {},
          "execution_count": 3
        }
      ]
    },
    {
      "cell_type": "code",
      "source": [
        "data.isnull().sum()"
      ],
      "metadata": {
        "colab": {
          "base_uri": "https://localhost:8080/"
        },
        "id": "4PDVdtNTnLMg",
        "outputId": "84e89ce6-2c61-4661-d087-1b51b005a1a0"
      },
      "execution_count": null,
      "outputs": [
        {
          "output_type": "execute_result",
          "data": {
            "text/plain": [
              "Age               0\n",
              "BMI               0\n",
              "Glucose           0\n",
              "Insulin           0\n",
              "HOMA              0\n",
              "Leptin            0\n",
              "Adiponectin       0\n",
              "Resistin          0\n",
              "MCP.1             0\n",
              "Classification    0\n",
              "dtype: int64"
            ]
          },
          "metadata": {},
          "execution_count": 4
        }
      ]
    },
    {
      "cell_type": "code",
      "source": [
        "# Correlación de variables/características\n",
        "corr_data = data.corr(method='pearson')\n",
        "corr_data"
      ],
      "metadata": {
        "colab": {
          "base_uri": "https://localhost:8080/",
          "height": 363
        },
        "id": "FtI6j-K_f4QD",
        "outputId": "316ef125-5145-496e-9d26-60925fb5fa5a"
      },
      "execution_count": null,
      "outputs": [
        {
          "output_type": "execute_result",
          "data": {
            "text/plain": [
              "                     Age       BMI   Glucose   Insulin      HOMA    Leptin  \\\n",
              "Age             1.000000  0.008530  0.230106  0.032495  0.127033  0.102626   \n",
              "BMI             0.008530  1.000000  0.138845  0.145295  0.114480  0.569593   \n",
              "Glucose         0.230106  0.138845  1.000000  0.504653  0.696212  0.305080   \n",
              "Insulin         0.032495  0.145295  0.504653  1.000000  0.932198  0.301462   \n",
              "HOMA            0.127033  0.114480  0.696212  0.932198  1.000000  0.327210   \n",
              "Leptin          0.102626  0.569593  0.305080  0.301462  0.327210  1.000000   \n",
              "Adiponectin    -0.219813 -0.302735 -0.122121 -0.031296 -0.056337 -0.095389   \n",
              "Resistin        0.002742  0.195350  0.291327  0.146731  0.231101  0.256234   \n",
              "MCP.1           0.013462  0.224038  0.264879  0.174356  0.259529  0.014009   \n",
              "Classification -0.043555 -0.132586  0.384315  0.276804  0.284012 -0.001078   \n",
              "\n",
              "                Adiponectin  Resistin     MCP.1  Classification  \n",
              "Age               -0.219813  0.002742  0.013462       -0.043555  \n",
              "BMI               -0.302735  0.195350  0.224038       -0.132586  \n",
              "Glucose           -0.122121  0.291327  0.264879        0.384315  \n",
              "Insulin           -0.031296  0.146731  0.174356        0.276804  \n",
              "HOMA              -0.056337  0.231101  0.259529        0.284012  \n",
              "Leptin            -0.095389  0.256234  0.014009       -0.001078  \n",
              "Adiponectin        1.000000 -0.252363 -0.200694       -0.019490  \n",
              "Resistin          -0.252363  1.000000  0.366474        0.227310  \n",
              "MCP.1             -0.200694  0.366474  1.000000        0.091381  \n",
              "Classification    -0.019490  0.227310  0.091381        1.000000  "
            ],
            "text/html": [
              "\n",
              "  <div id=\"df-8adfbca4-ce9b-4713-be0a-a7c97539fa77\">\n",
              "    <div class=\"colab-df-container\">\n",
              "      <div>\n",
              "<style scoped>\n",
              "    .dataframe tbody tr th:only-of-type {\n",
              "        vertical-align: middle;\n",
              "    }\n",
              "\n",
              "    .dataframe tbody tr th {\n",
              "        vertical-align: top;\n",
              "    }\n",
              "\n",
              "    .dataframe thead th {\n",
              "        text-align: right;\n",
              "    }\n",
              "</style>\n",
              "<table border=\"1\" class=\"dataframe\">\n",
              "  <thead>\n",
              "    <tr style=\"text-align: right;\">\n",
              "      <th></th>\n",
              "      <th>Age</th>\n",
              "      <th>BMI</th>\n",
              "      <th>Glucose</th>\n",
              "      <th>Insulin</th>\n",
              "      <th>HOMA</th>\n",
              "      <th>Leptin</th>\n",
              "      <th>Adiponectin</th>\n",
              "      <th>Resistin</th>\n",
              "      <th>MCP.1</th>\n",
              "      <th>Classification</th>\n",
              "    </tr>\n",
              "  </thead>\n",
              "  <tbody>\n",
              "    <tr>\n",
              "      <th>Age</th>\n",
              "      <td>1.000000</td>\n",
              "      <td>0.008530</td>\n",
              "      <td>0.230106</td>\n",
              "      <td>0.032495</td>\n",
              "      <td>0.127033</td>\n",
              "      <td>0.102626</td>\n",
              "      <td>-0.219813</td>\n",
              "      <td>0.002742</td>\n",
              "      <td>0.013462</td>\n",
              "      <td>-0.043555</td>\n",
              "    </tr>\n",
              "    <tr>\n",
              "      <th>BMI</th>\n",
              "      <td>0.008530</td>\n",
              "      <td>1.000000</td>\n",
              "      <td>0.138845</td>\n",
              "      <td>0.145295</td>\n",
              "      <td>0.114480</td>\n",
              "      <td>0.569593</td>\n",
              "      <td>-0.302735</td>\n",
              "      <td>0.195350</td>\n",
              "      <td>0.224038</td>\n",
              "      <td>-0.132586</td>\n",
              "    </tr>\n",
              "    <tr>\n",
              "      <th>Glucose</th>\n",
              "      <td>0.230106</td>\n",
              "      <td>0.138845</td>\n",
              "      <td>1.000000</td>\n",
              "      <td>0.504653</td>\n",
              "      <td>0.696212</td>\n",
              "      <td>0.305080</td>\n",
              "      <td>-0.122121</td>\n",
              "      <td>0.291327</td>\n",
              "      <td>0.264879</td>\n",
              "      <td>0.384315</td>\n",
              "    </tr>\n",
              "    <tr>\n",
              "      <th>Insulin</th>\n",
              "      <td>0.032495</td>\n",
              "      <td>0.145295</td>\n",
              "      <td>0.504653</td>\n",
              "      <td>1.000000</td>\n",
              "      <td>0.932198</td>\n",
              "      <td>0.301462</td>\n",
              "      <td>-0.031296</td>\n",
              "      <td>0.146731</td>\n",
              "      <td>0.174356</td>\n",
              "      <td>0.276804</td>\n",
              "    </tr>\n",
              "    <tr>\n",
              "      <th>HOMA</th>\n",
              "      <td>0.127033</td>\n",
              "      <td>0.114480</td>\n",
              "      <td>0.696212</td>\n",
              "      <td>0.932198</td>\n",
              "      <td>1.000000</td>\n",
              "      <td>0.327210</td>\n",
              "      <td>-0.056337</td>\n",
              "      <td>0.231101</td>\n",
              "      <td>0.259529</td>\n",
              "      <td>0.284012</td>\n",
              "    </tr>\n",
              "    <tr>\n",
              "      <th>Leptin</th>\n",
              "      <td>0.102626</td>\n",
              "      <td>0.569593</td>\n",
              "      <td>0.305080</td>\n",
              "      <td>0.301462</td>\n",
              "      <td>0.327210</td>\n",
              "      <td>1.000000</td>\n",
              "      <td>-0.095389</td>\n",
              "      <td>0.256234</td>\n",
              "      <td>0.014009</td>\n",
              "      <td>-0.001078</td>\n",
              "    </tr>\n",
              "    <tr>\n",
              "      <th>Adiponectin</th>\n",
              "      <td>-0.219813</td>\n",
              "      <td>-0.302735</td>\n",
              "      <td>-0.122121</td>\n",
              "      <td>-0.031296</td>\n",
              "      <td>-0.056337</td>\n",
              "      <td>-0.095389</td>\n",
              "      <td>1.000000</td>\n",
              "      <td>-0.252363</td>\n",
              "      <td>-0.200694</td>\n",
              "      <td>-0.019490</td>\n",
              "    </tr>\n",
              "    <tr>\n",
              "      <th>Resistin</th>\n",
              "      <td>0.002742</td>\n",
              "      <td>0.195350</td>\n",
              "      <td>0.291327</td>\n",
              "      <td>0.146731</td>\n",
              "      <td>0.231101</td>\n",
              "      <td>0.256234</td>\n",
              "      <td>-0.252363</td>\n",
              "      <td>1.000000</td>\n",
              "      <td>0.366474</td>\n",
              "      <td>0.227310</td>\n",
              "    </tr>\n",
              "    <tr>\n",
              "      <th>MCP.1</th>\n",
              "      <td>0.013462</td>\n",
              "      <td>0.224038</td>\n",
              "      <td>0.264879</td>\n",
              "      <td>0.174356</td>\n",
              "      <td>0.259529</td>\n",
              "      <td>0.014009</td>\n",
              "      <td>-0.200694</td>\n",
              "      <td>0.366474</td>\n",
              "      <td>1.000000</td>\n",
              "      <td>0.091381</td>\n",
              "    </tr>\n",
              "    <tr>\n",
              "      <th>Classification</th>\n",
              "      <td>-0.043555</td>\n",
              "      <td>-0.132586</td>\n",
              "      <td>0.384315</td>\n",
              "      <td>0.276804</td>\n",
              "      <td>0.284012</td>\n",
              "      <td>-0.001078</td>\n",
              "      <td>-0.019490</td>\n",
              "      <td>0.227310</td>\n",
              "      <td>0.091381</td>\n",
              "      <td>1.000000</td>\n",
              "    </tr>\n",
              "  </tbody>\n",
              "</table>\n",
              "</div>\n",
              "      <button class=\"colab-df-convert\" onclick=\"convertToInteractive('df-8adfbca4-ce9b-4713-be0a-a7c97539fa77')\"\n",
              "              title=\"Convert this dataframe to an interactive table.\"\n",
              "              style=\"display:none;\">\n",
              "        \n",
              "  <svg xmlns=\"http://www.w3.org/2000/svg\" height=\"24px\"viewBox=\"0 0 24 24\"\n",
              "       width=\"24px\">\n",
              "    <path d=\"M0 0h24v24H0V0z\" fill=\"none\"/>\n",
              "    <path d=\"M18.56 5.44l.94 2.06.94-2.06 2.06-.94-2.06-.94-.94-2.06-.94 2.06-2.06.94zm-11 1L8.5 8.5l.94-2.06 2.06-.94-2.06-.94L8.5 2.5l-.94 2.06-2.06.94zm10 10l.94 2.06.94-2.06 2.06-.94-2.06-.94-.94-2.06-.94 2.06-2.06.94z\"/><path d=\"M17.41 7.96l-1.37-1.37c-.4-.4-.92-.59-1.43-.59-.52 0-1.04.2-1.43.59L10.3 9.45l-7.72 7.72c-.78.78-.78 2.05 0 2.83L4 21.41c.39.39.9.59 1.41.59.51 0 1.02-.2 1.41-.59l7.78-7.78 2.81-2.81c.8-.78.8-2.07 0-2.86zM5.41 20L4 18.59l7.72-7.72 1.47 1.35L5.41 20z\"/>\n",
              "  </svg>\n",
              "      </button>\n",
              "      \n",
              "  <style>\n",
              "    .colab-df-container {\n",
              "      display:flex;\n",
              "      flex-wrap:wrap;\n",
              "      gap: 12px;\n",
              "    }\n",
              "\n",
              "    .colab-df-convert {\n",
              "      background-color: #E8F0FE;\n",
              "      border: none;\n",
              "      border-radius: 50%;\n",
              "      cursor: pointer;\n",
              "      display: none;\n",
              "      fill: #1967D2;\n",
              "      height: 32px;\n",
              "      padding: 0 0 0 0;\n",
              "      width: 32px;\n",
              "    }\n",
              "\n",
              "    .colab-df-convert:hover {\n",
              "      background-color: #E2EBFA;\n",
              "      box-shadow: 0px 1px 2px rgba(60, 64, 67, 0.3), 0px 1px 3px 1px rgba(60, 64, 67, 0.15);\n",
              "      fill: #174EA6;\n",
              "    }\n",
              "\n",
              "    [theme=dark] .colab-df-convert {\n",
              "      background-color: #3B4455;\n",
              "      fill: #D2E3FC;\n",
              "    }\n",
              "\n",
              "    [theme=dark] .colab-df-convert:hover {\n",
              "      background-color: #434B5C;\n",
              "      box-shadow: 0px 1px 3px 1px rgba(0, 0, 0, 0.15);\n",
              "      filter: drop-shadow(0px 1px 2px rgba(0, 0, 0, 0.3));\n",
              "      fill: #FFFFFF;\n",
              "    }\n",
              "  </style>\n",
              "\n",
              "      <script>\n",
              "        const buttonEl =\n",
              "          document.querySelector('#df-8adfbca4-ce9b-4713-be0a-a7c97539fa77 button.colab-df-convert');\n",
              "        buttonEl.style.display =\n",
              "          google.colab.kernel.accessAllowed ? 'block' : 'none';\n",
              "\n",
              "        async function convertToInteractive(key) {\n",
              "          const element = document.querySelector('#df-8adfbca4-ce9b-4713-be0a-a7c97539fa77');\n",
              "          const dataTable =\n",
              "            await google.colab.kernel.invokeFunction('convertToInteractive',\n",
              "                                                     [key], {});\n",
              "          if (!dataTable) return;\n",
              "\n",
              "          const docLinkHtml = 'Like what you see? Visit the ' +\n",
              "            '<a target=\"_blank\" href=https://colab.research.google.com/notebooks/data_table.ipynb>data table notebook</a>'\n",
              "            + ' to learn more about interactive tables.';\n",
              "          element.innerHTML = '';\n",
              "          dataTable['output_type'] = 'display_data';\n",
              "          await google.colab.output.renderOutput(dataTable, element);\n",
              "          const docLink = document.createElement('div');\n",
              "          docLink.innerHTML = docLinkHtml;\n",
              "          element.appendChild(docLink);\n",
              "        }\n",
              "      </script>\n",
              "    </div>\n",
              "  </div>\n",
              "  "
            ]
          },
          "metadata": {},
          "execution_count": 5
        }
      ]
    },
    {
      "cell_type": "code",
      "source": [
        "# grafico de calor de la correlación\n",
        "import matplotlib.pyplot as plt\n",
        "import seaborn as sns\n",
        "\n",
        "plt.figure(figsize=(8, 6))\n",
        "sns.heatmap(corr_data, annot=True)\n",
        "plt.show()"
      ],
      "metadata": {
        "colab": {
          "base_uri": "https://localhost:8080/",
          "height": 435
        },
        "id": "i0qetqrminLz",
        "outputId": "cd8a0f5a-6d58-4ec7-d114-318773114d24"
      },
      "execution_count": null,
      "outputs": [
        {
          "output_type": "display_data",
          "data": {
            "text/plain": [
              "<Figure size 576x432 with 2 Axes>"
            ],
            "image/png": "[encoded data removed]"
          },
          "metadata": {
            "needs_background": "light"
          }
        }
      ]
    },
    {
      "cell_type": "code",
      "source": [
        "data.describe()"
      ],
      "metadata": {
        "colab": {
          "base_uri": "https://localhost:8080/",
          "height": 300
        },
        "id": "_3wsRq_l6Ie1",
        "outputId": "270c8bb0-e214-449c-92b7-e844591d6290"
      },
      "execution_count": null,
      "outputs": [
        {
          "output_type": "execute_result",
          "data": {
            "text/plain": [
              "              Age         BMI     Glucose     Insulin        HOMA      Leptin  \\\n",
              "count  116.000000  116.000000  116.000000  116.000000  116.000000  116.000000   \n",
              "mean    57.301724   27.582111   97.793103   10.012086    2.694988   26.615080   \n",
              "std     16.112766    5.020136   22.525162   10.067768    3.642043   19.183294   \n",
              "min     24.000000   18.370000   60.000000    2.432000    0.467409    4.311000   \n",
              "25%     45.000000   22.973205   85.750000    4.359250    0.917966   12.313675   \n",
              "50%     56.000000   27.662416   92.000000    5.924500    1.380939   20.271000   \n",
              "75%     71.000000   31.241442  102.000000   11.189250    2.857787   37.378300   \n",
              "max     89.000000   38.578759  201.000000   58.460000   25.050342   90.280000   \n",
              "\n",
              "       Adiponectin    Resistin        MCP.1  Classification  \n",
              "count   116.000000  116.000000   116.000000      116.000000  \n",
              "mean     10.180874   14.725966   534.647000        1.551724  \n",
              "std       6.843341   12.390646   345.912663        0.499475  \n",
              "min       1.656020    3.210000    45.843000        1.000000  \n",
              "25%       5.474283    6.881763   269.978250        1.000000  \n",
              "50%       8.352692   10.827740   471.322500        2.000000  \n",
              "75%      11.815970   17.755207   700.085000        2.000000  \n",
              "max      38.040000   82.100000  1698.440000        2.000000  "
            ],
            "text/html": [
              "\n",
              "  <div id=\"df-7af9aaa2-7a56-4dd4-8b6b-2936cc069593\">\n",
              "    <div class=\"colab-df-container\">\n",
              "      <div>\n",
              "<style scoped>\n",
              "    .dataframe tbody tr th:only-of-type {\n",
              "        vertical-align: middle;\n",
              "    }\n",
              "\n",
              "    .dataframe tbody tr th {\n",
              "        vertical-align: top;\n",
              "    }\n",
              "\n",
              "    .dataframe thead th {\n",
              "        text-align: right;\n",
              "    }\n",
              "</style>\n",
              "<table border=\"1\" class=\"dataframe\">\n",
              "  <thead>\n",
              "    <tr style=\"text-align: right;\">\n",
              "      <th></th>\n",
              "      <th>Age</th>\n",
              "      <th>BMI</th>\n",
              "      <th>Glucose</th>\n",
              "      <th>Insulin</th>\n",
              "      <th>HOMA</th>\n",
              "      <th>Leptin</th>\n",
              "      <th>Adiponectin</th>\n",
              "      <th>Resistin</th>\n",
              "      <th>MCP.1</th>\n",
              "      <th>Classification</th>\n",
              "    </tr>\n",
              "  </thead>\n",
              "  <tbody>\n",
              "    <tr>\n",
              "      <th>count</th>\n",
              "      <td>116.000000</td>\n",
              "      <td>116.000000</td>\n",
              "      <td>116.000000</td>\n",
              "      <td>116.000000</td>\n",
              "      <td>116.000000</td>\n",
              "      <td>116.000000</td>\n",
              "      <td>116.000000</td>\n",
              "      <td>116.000000</td>\n",
              "      <td>116.000000</td>\n",
              "      <td>116.000000</td>\n",
              "    </tr>\n",
              "    <tr>\n",
              "      <th>mean</th>\n",
              "      <td>57.301724</td>\n",
              "      <td>27.582111</td>\n",
              "      <td>97.793103</td>\n",
              "      <td>10.012086</td>\n",
              "      <td>2.694988</td>\n",
              "      <td>26.615080</td>\n",
              "      <td>10.180874</td>\n",
              "      <td>14.725966</td>\n",
              "      <td>534.647000</td>\n",
              "      <td>1.551724</td>\n",
              "    </tr>\n",
              "    <tr>\n",
              "      <th>std</th>\n",
              "      <td>16.112766</td>\n",
              "      <td>5.020136</td>\n",
              "      <td>22.525162</td>\n",
              "      <td>10.067768</td>\n",
              "      <td>3.642043</td>\n",
              "      <td>19.183294</td>\n",
              "      <td>6.843341</td>\n",
              "      <td>12.390646</td>\n",
              "      <td>345.912663</td>\n",
              "      <td>0.499475</td>\n",
              "    </tr>\n",
              "    <tr>\n",
              "      <th>min</th>\n",
              "      <td>24.000000</td>\n",
              "      <td>18.370000</td>\n",
              "      <td>60.000000</td>\n",
              "      <td>2.432000</td>\n",
              "      <td>0.467409</td>\n",
              "      <td>4.311000</td>\n",
              "      <td>1.656020</td>\n",
              "      <td>3.210000</td>\n",
              "      <td>45.843000</td>\n",
              "      <td>1.000000</td>\n",
              "    </tr>\n",
              "    <tr>\n",
              "      <th>25%</th>\n",
              "      <td>45.000000</td>\n",
              "      <td>22.973205</td>\n",
              "      <td>85.750000</td>\n",
              "      <td>4.359250</td>\n",
              "      <td>0.917966</td>\n",
              "      <td>12.313675</td>\n",
              "      <td>5.474283</td>\n",
              "      <td>6.881763</td>\n",
              "      <td>269.978250</td>\n",
              "      <td>1.000000</td>\n",
              "    </tr>\n",
              "    <tr>\n",
              "      <th>50%</th>\n",
              "      <td>56.000000</td>\n",
              "      <td>27.662416</td>\n",
              "      <td>92.000000</td>\n",
              "      <td>5.924500</td>\n",
              "      <td>1.380939</td>\n",
              "      <td>20.271000</td>\n",
              "      <td>8.352692</td>\n",
              "      <td>10.827740</td>\n",
              "      <td>471.322500</td>\n",
              "      <td>2.000000</td>\n",
              "    </tr>\n",
              "    <tr>\n",
              "      <th>75%</th>\n",
              "      <td>71.000000</td>\n",
              "      <td>31.241442</td>\n",
              "      <td>102.000000</td>\n",
              "      <td>11.189250</td>\n",
              "      <td>2.857787</td>\n",
              "      <td>37.378300</td>\n",
              "      <td>11.815970</td>\n",
              "      <td>17.755207</td>\n",
              "      <td>700.085000</td>\n",
              "      <td>2.000000</td>\n",
              "    </tr>\n",
              "    <tr>\n",
              "      <th>max</th>\n",
              "      <td>89.000000</td>\n",
              "      <td>38.578759</td>\n",
              "      <td>201.000000</td>\n",
              "      <td>58.460000</td>\n",
              "      <td>25.050342</td>\n",
              "      <td>90.280000</td>\n",
              "      <td>38.040000</td>\n",
              "      <td>82.100000</td>\n",
              "      <td>1698.440000</td>\n",
              "      <td>2.000000</td>\n",
              "    </tr>\n",
              "  </tbody>\n",
              "</table>\n",
              "</div>\n",
              "      <button class=\"colab-df-convert\" onclick=\"convertToInteractive('df-7af9aaa2-7a56-4dd4-8b6b-2936cc069593')\"\n",
              "              title=\"Convert this dataframe to an interactive table.\"\n",
              "              style=\"display:none;\">\n",
              "        \n",
              "  <svg xmlns=\"http://www.w3.org/2000/svg\" height=\"24px\"viewBox=\"0 0 24 24\"\n",
              "       width=\"24px\">\n",
              "    <path d=\"M0 0h24v24H0V0z\" fill=\"none\"/>\n",
              "    <path d=\"M18.56 5.44l.94 2.06.94-2.06 2.06-.94-2.06-.94-.94-2.06-.94 2.06-2.06.94zm-11 1L8.5 8.5l.94-2.06 2.06-.94-2.06-.94L8.5 2.5l-.94 2.06-2.06.94zm10 10l.94 2.06.94-2.06 2.06-.94-2.06-.94-.94-2.06-.94 2.06-2.06.94z\"/><path d=\"M17.41 7.96l-1.37-1.37c-.4-.4-.92-.59-1.43-.59-.52 0-1.04.2-1.43.59L10.3 9.45l-7.72 7.72c-.78.78-.78 2.05 0 2.83L4 21.41c.39.39.9.59 1.41.59.51 0 1.02-.2 1.41-.59l7.78-7.78 2.81-2.81c.8-.78.8-2.07 0-2.86zM5.41 20L4 18.59l7.72-7.72 1.47 1.35L5.41 20z\"/>\n",
              "  </svg>\n",
              "      </button>\n",
              "      \n",
              "  <style>\n",
              "    .colab-df-container {\n",
              "      display:flex;\n",
              "      flex-wrap:wrap;\n",
              "      gap: 12px;\n",
              "    }\n",
              "\n",
              "    .colab-df-convert {\n",
              "      background-color: #E8F0FE;\n",
              "      border: none;\n",
              "      border-radius: 50%;\n",
              "      cursor: pointer;\n",
              "      display: none;\n",
              "      fill: #1967D2;\n",
              "      height: 32px;\n",
              "      padding: 0 0 0 0;\n",
              "      width: 32px;\n",
              "    }\n",
              "\n",
              "    .colab-df-convert:hover {\n",
              "      background-color: #E2EBFA;\n",
              "      box-shadow: 0px 1px 2px rgba(60, 64, 67, 0.3), 0px 1px 3px 1px rgba(60, 64, 67, 0.15);\n",
              "      fill: #174EA6;\n",
              "    }\n",
              "\n",
              "    [theme=dark] .colab-df-convert {\n",
              "      background-color: #3B4455;\n",
              "      fill: #D2E3FC;\n",
              "    }\n",
              "\n",
              "    [theme=dark] .colab-df-convert:hover {\n",
              "      background-color: #434B5C;\n",
              "      box-shadow: 0px 1px 3px 1px rgba(0, 0, 0, 0.15);\n",
              "      filter: drop-shadow(0px 1px 2px rgba(0, 0, 0, 0.3));\n",
              "      fill: #FFFFFF;\n",
              "    }\n",
              "  </style>\n",
              "\n",
              "      <script>\n",
              "        const buttonEl =\n",
              "          document.querySelector('#df-7af9aaa2-7a56-4dd4-8b6b-2936cc069593 button.colab-df-convert');\n",
              "        buttonEl.style.display =\n",
              "          google.colab.kernel.accessAllowed ? 'block' : 'none';\n",
              "\n",
              "        async function convertToInteractive(key) {\n",
              "          const element = document.querySelector('#df-7af9aaa2-7a56-4dd4-8b6b-2936cc069593');\n",
              "          const dataTable =\n",
              "            await google.colab.kernel.invokeFunction('convertToInteractive',\n",
              "                                                     [key], {});\n",
              "          if (!dataTable) return;\n",
              "\n",
              "          const docLinkHtml = 'Like what you see? Visit the ' +\n",
              "            '<a target=\"_blank\" href=https://colab.research.google.com/notebooks/data_table.ipynb>data table notebook</a>'\n",
              "            + ' to learn more about interactive tables.';\n",
              "          element.innerHTML = '';\n",
              "          dataTable['output_type'] = 'display_data';\n",
              "          await google.colab.output.renderOutput(dataTable, element);\n",
              "          const docLink = document.createElement('div');\n",
              "          docLink.innerHTML = docLinkHtml;\n",
              "          element.appendChild(docLink);\n",
              "        }\n",
              "      </script>\n",
              "    </div>\n",
              "  </div>\n",
              "  "
            ]
          },
          "metadata": {},
          "execution_count": 7
        }
      ]
    },
    {
      "cell_type": "code",
      "source": [
        "# grafica de características\n",
        "data.plot()"
      ],
      "metadata": {
        "colab": {
          "base_uri": "https://localhost:8080/",
          "height": 282
        },
        "id": "-YOskqWMru3G",
        "outputId": "d7fda920-1895-4fe5-ed3c-ad638ad4ea90"
      },
      "execution_count": null,
      "outputs": [
        {
          "output_type": "execute_result",
          "data": {
            "text/plain": [
              "<matplotlib.axes._subplots.AxesSubplot at 0x7f755959a890>"
            ]
          },
          "metadata": {},
          "execution_count": 8
        },
        {
          "output_type": "display_data",
          "data": {
            "text/plain": [
              "<Figure size 432x288 with 1 Axes>"
            ],
            "image/png": "[encoded data removed]"
          },
          "metadata": {
            "needs_background": "light"
          }
        }
      ]
    },
    {
      "cell_type": "markdown",
      "source": [
        "# **3. Preprocesamiento**"
      ],
      "metadata": {
        "id": "r8y7xYIb8miB"
      }
    },
    {
      "cell_type": "code",
      "source": [
        "# estandarizar el conjunto de datos y volver a graficar\n"
      ],
      "metadata": {
        "id": "UqQCtfNAyEfi"
      },
      "execution_count": null,
      "outputs": []
    },
    {
      "cell_type": "code",
      "source": [
        "# dividimos los datos en características de entrada y de salida\n",
        "\n",
        "X = data.drop(\"Classification\", axis=1)\n",
        "y = data[\"Classification\"]\n"
      ],
      "metadata": {
        "id": "cklAmTGIyCxF"
      },
      "execution_count": null,
      "outputs": []
    },
    {
      "cell_type": "code",
      "source": [
        "# dividimos en conjunto de entrenamiento (train) y conjunto de prueba (test)\n",
        "# Los datos de entrenamiento será 70% y para la prueba será el 30%\n",
        "\n",
        "from sklearn.model_selection import train_test_split\n",
        "X_train, X_test, y_train, y_test = train_test_split(X, y, stratify=y, test_size=0.30, random_state=42)"
      ],
      "metadata": {
        "id": "r3wtPrtXy6UH"
      },
      "execution_count": null,
      "outputs": []
    },
    {
      "cell_type": "markdown",
      "source": [
        "# **4. Modelos de ML**"
      ],
      "metadata": {
        "id": "Hg3BpXlKHnNv"
      }
    },
    {
      "cell_type": "code",
      "source": [
        "from sklearn.ensemble import RandomForestClassifier\n",
        "from sklearn.naive_bayes import GaussianNB\n",
        "from sklearn import tree\n",
        "from sklearn.svm import SVC\n",
        "\n",
        "# construimos el modelo clasificador\n",
        "clasificador1 = RandomForestClassifier()\n",
        "clasificador2 = GaussianNB()\n",
        "clasificador3 = tree.DecisionTreeClassifier(max_depth=3, criterion=\"entropy\")\n",
        "clasificador4 = SVC(kernel=\"poly\")\n",
        "\n",
        "# Entrenamos el modelo usando el conjunto de entranamiento\n",
        "RandomForest  = clasificador1.fit(X_train, y_train)\n",
        "NB            = clasificador2.fit(X_train, y_train)\n",
        "ArbolDecision = clasificador3.fit(X_train, y_train)\n",
        "SVM           = clasificador4.fit(X_train, y_train)\n",
        "\n",
        "# predicción en el conjunto de prueba\n",
        "y_pred1 = RandomForest.predict(X_test)\n",
        "y_pred2 = NB.predict(X_test)\n",
        "y_pred3 = ArbolDecision.predict(X_test)\n",
        "y_pred4 = SVM.predict(X_test)"
      ],
      "metadata": {
        "id": "h9Sc7kR60XXI"
      },
      "execution_count": null,
      "outputs": []
    },
    {
      "cell_type": "markdown",
      "source": [
        "# **5. Metricas**"
      ],
      "metadata": {
        "id": "VsiY31bq2cXh"
      }
    },
    {
      "cell_type": "code",
      "source": [
        "# predicción en el conjunto de prueba\n",
        "y_pred1 = RandomForest.predict(X_test)\n",
        "y_pred2 = NB.predict(X_test)\n",
        "y_pred3 = ArbolDecision.predict(X_test)\n",
        "y_pred4 = SVM.predict(X_test)"
      ],
      "metadata": {
        "id": "VZNr4d342ZFz"
      },
      "execution_count": null,
      "outputs": []
    },
    {
      "cell_type": "code",
      "source": [
        "from sklearn.metrics import accuracy_score\n",
        "\n",
        "# Calculamos la precisión del modelo, utilizando los valores reales y los predichos de los datos de prueba\n",
        "print(\"Precisión RandomForest :\", accuracy_score(y_test, y_pred1))\n",
        "print(\"Precisión NaiveBayes   :\", accuracy_score(y_test, y_pred2))\n",
        "print(\"Precisión ArbolDecision:\", accuracy_score(y_test, y_pred3))\n",
        "print(\"Precisión SVM          :\", accuracy_score(y_test, y_pred4))\n"
      ],
      "metadata": {
        "colab": {
          "base_uri": "https://localhost:8080/"
        },
        "id": "uxw8OrvU6_rw",
        "outputId": "f846da22-1e81-4ead-c602-72d5536203e9"
      },
      "execution_count": null,
      "outputs": [
        {
          "output_type": "stream",
          "name": "stdout",
          "text": [
            "Precisión RandomForest : 0.7714285714285715\n",
            "Precisión NaiveBayes   : 0.6857142857142857\n",
            "Precisión ArbolDecision: 0.7142857142857143\n",
            "Precisión SVM          : 0.5428571428571428\n"
          ]
        }
      ]
    },
    {
      "cell_type": "code",
      "source": [
        "# data.feature_importances_  es un vector con la importancia estimada de cada atributo\n",
        "# para el modelo random forest\n",
        "for name, importance in zip(data.columns, RandomForest.feature_importances_):\n",
        "    print(name + ': ' + str(importance))\n"
      ],
      "metadata": {
        "colab": {
          "base_uri": "https://localhost:8080/"
        },
        "id": "Dskyr5Q6HU9h",
        "outputId": "eec81ebf-5d54-4236-e81c-8dba5184bcb1"
      },
      "execution_count": null,
      "outputs": [
        {
          "output_type": "stream",
          "name": "stdout",
          "text": [
            "Age: 0.10967899082843029\n",
            "BMI: 0.12505563740323009\n",
            "Glucose: 0.2452494347021258\n",
            "Insulin: 0.07534086994770732\n",
            "HOMA: 0.08843299452636938\n",
            "Leptin: 0.08210164068879931\n",
            "Adiponectin: 0.07024008866157426\n",
            "Resistin: 0.1362163549095786\n",
            "MCP.1: 0.06768398833218504\n"
          ]
        }
      ]
    },
    {
      "cell_type": "markdown",
      "source": [
        "# **6. Visualización**"
      ],
      "metadata": {
        "id": "U_Z5I9HJ2xLr"
      }
    },
    {
      "cell_type": "markdown",
      "source": [
        "Arbol de decision de clasificación"
      ],
      "metadata": {
        "id": "sXXogaMF_pS1"
      }
    },
    {
      "cell_type": "code",
      "source": [
        "from sklearn.tree import export_graphviz\n",
        "from graphviz import Source\n",
        "\n",
        "export_graphviz(clasificador3,\n",
        "                out_file=\"CancerMama.dot\",\n",
        "                filled=True,\n",
        "                rounded=True)\n",
        "\n",
        "Source.from_file( \"CancerMama.dot\")"
      ],
      "metadata": {
        "colab": {
          "base_uri": "https://localhost:8080/",
          "height": 539
        },
        "id": "PwYcZIVJ3SRB",
        "outputId": "adcd7fce-0abe-4c34-af07-c4b2f408761c"
      },
      "execution_count": null,
      "outputs": [
        {
          "output_type": "execute_result",
          "data": {
            "text/plain": [
              "<graphviz.files.Source at 0x7f7556382a10>"
            ],
            "image/svg+xml": "<?xml version=\"1.0\" encoding=\"UTF-8\" standalone=\"no\"?>\n<!DOCTYPE svg PUBLIC \"-//W3C//DTD SVG 1.1//EN\"\n \"http://www.w3.org/Graphics/SVG/1.1/DTD/svg11.dtd\">\n<!-- Generated by graphviz version 2.40.1 (20161225.0304)\n -->\n<!-- Title: Tree Pages: 1 -->\n<svg width=\"996pt\" height=\"373pt\"\n viewBox=\"0.00 0.00 995.50 373.00\" xmlns=\"http://www.w3.org/2000/svg\" xmlns:xlink=\"http://www.w3.org/1999/xlink\">\n<g id=\"graph0\" class=\"graph\" transform=\"scale(1 1) rotate(0) translate(4 369)\">\n<title>Tree</title>\n<polygon fill=\"#ffffff\" stroke=\"transparent\" points=\"-4,4 -4,-369 991.5,-369 991.5,4 -4,4\"/>\n<!-- 0 -->\n<g id=\"node1\" class=\"node\">\n<title>0</title>\n<path fill=\"#d7ebfa\" stroke=\"#000000\" d=\"M522,-365C522,-365 428,-365 428,-365 422,-365 416,-359 416,-353 416,-353 416,-309 416,-309 416,-303 422,-297 428,-297 428,-297 522,-297 522,-297 528,-297 534,-303 534,-309 534,-309 534,-353 534,-353 534,-359 528,-365 522,-365\"/>\n<text text-anchor=\"middle\" x=\"475\" y=\"-349.8\" font-family=\"Helvetica,sans-Serif\" font-size=\"14.00\" fill=\"#000000\">X[2] &lt;= 96.5</text>\n<text text-anchor=\"middle\" x=\"475\" y=\"-334.8\" font-family=\"Helvetica,sans-Serif\" font-size=\"14.00\" fill=\"#000000\">entropy = 0.991</text>\n<text text-anchor=\"middle\" x=\"475\" y=\"-319.8\" font-family=\"Helvetica,sans-Serif\" font-size=\"14.00\" fill=\"#000000\">samples = 81</text>\n<text text-anchor=\"middle\" x=\"475\" y=\"-304.8\" font-family=\"Helvetica,sans-Serif\" font-size=\"14.00\" fill=\"#000000\">value = [36, 45]</text>\n</g>\n<!-- 1 -->\n<g id=\"node2\" class=\"node\">\n<title>1</title>\n<path fill=\"#f2c29f\" stroke=\"#000000\" d=\"M454,-261C454,-261 360,-261 360,-261 354,-261 348,-255 348,-249 348,-249 348,-205 348,-205 348,-199 354,-193 360,-193 360,-193 454,-193 454,-193 460,-193 466,-199 466,-205 466,-205 466,-249 466,-249 466,-255 460,-261 454,-261\"/>\n<text text-anchor=\"middle\" x=\"407\" y=\"-245.8\" font-family=\"Helvetica,sans-Serif\" font-size=\"14.00\" fill=\"#000000\">X[7] &lt;= 14.227</text>\n<text text-anchor=\"middle\" x=\"407\" y=\"-230.8\" font-family=\"Helvetica,sans-Serif\" font-size=\"14.00\" fill=\"#000000\">entropy = 0.926</text>\n<text text-anchor=\"middle\" x=\"407\" y=\"-215.8\" font-family=\"Helvetica,sans-Serif\" font-size=\"14.00\" fill=\"#000000\">samples = 44</text>\n<text text-anchor=\"middle\" x=\"407\" y=\"-200.8\" font-family=\"Helvetica,sans-Serif\" font-size=\"14.00\" fill=\"#000000\">value = [29, 15]</text>\n</g>\n<!-- 0&#45;&gt;1 -->\n<g id=\"edge1\" class=\"edge\">\n<title>0&#45;&gt;1</title>\n<path fill=\"none\" stroke=\"#000000\" d=\"M452.7343,-296.9465C447.0398,-288.2373 440.8448,-278.7626 434.9062,-269.6801\"/>\n<polygon fill=\"#000000\" stroke=\"#000000\" points=\"437.7177,-267.5843 429.3158,-261.13 431.8589,-271.4151 437.7177,-267.5843\"/>\n<text text-anchor=\"middle\" x=\"424.1942\" y=\"-281.8998\" font-family=\"Helvetica,sans-Serif\" font-size=\"14.00\" fill=\"#000000\">True</text>\n</g>\n<!-- 8 -->\n<g id=\"node9\" class=\"node\">\n<title>8</title>\n<path fill=\"#67b4eb\" stroke=\"#000000\" d=\"M638.5,-261C638.5,-261 551.5,-261 551.5,-261 545.5,-261 539.5,-255 539.5,-249 539.5,-249 539.5,-205 539.5,-205 539.5,-199 545.5,-193 551.5,-193 551.5,-193 638.5,-193 638.5,-193 644.5,-193 650.5,-199 650.5,-205 650.5,-205 650.5,-249 650.5,-249 650.5,-255 644.5,-261 638.5,-261\"/>\n<text text-anchor=\"middle\" x=\"595\" y=\"-245.8\" font-family=\"Helvetica,sans-Serif\" font-size=\"14.00\" fill=\"#000000\">X[1] &lt;= 36.131</text>\n<text text-anchor=\"middle\" x=\"595\" y=\"-230.8\" font-family=\"Helvetica,sans-Serif\" font-size=\"14.00\" fill=\"#000000\">entropy = 0.7</text>\n<text text-anchor=\"middle\" x=\"595\" y=\"-215.8\" font-family=\"Helvetica,sans-Serif\" font-size=\"14.00\" fill=\"#000000\">samples = 37</text>\n<text text-anchor=\"middle\" x=\"595\" y=\"-200.8\" font-family=\"Helvetica,sans-Serif\" font-size=\"14.00\" fill=\"#000000\">value = [7, 30]</text>\n</g>\n<!-- 0&#45;&gt;8 -->\n<g id=\"edge8\" class=\"edge\">\n<title>0&#45;&gt;8</title>\n<path fill=\"none\" stroke=\"#000000\" d=\"M514.2925,-296.9465C525.0667,-287.6088 536.8564,-277.3911 548.015,-267.7203\"/>\n<polygon fill=\"#000000\" stroke=\"#000000\" points=\"550.3546,-270.3243 555.6192,-261.13 545.7701,-265.0344 550.3546,-270.3243\"/>\n<text text-anchor=\"middle\" x=\"553.8381\" y=\"-282.3665\" font-family=\"Helvetica,sans-Serif\" font-size=\"14.00\" fill=\"#000000\">False</text>\n</g>\n<!-- 2 -->\n<g id=\"node3\" class=\"node\">\n<title>2</title>\n<path fill=\"#ea9b62\" stroke=\"#000000\" d=\"M237,-157C237,-157 143,-157 143,-157 137,-157 131,-151 131,-145 131,-145 131,-101 131,-101 131,-95 137,-89 143,-89 143,-89 237,-89 237,-89 243,-89 249,-95 249,-101 249,-101 249,-145 249,-145 249,-151 243,-157 237,-157\"/>\n<text text-anchor=\"middle\" x=\"190\" y=\"-141.8\" font-family=\"Helvetica,sans-Serif\" font-size=\"14.00\" fill=\"#000000\">X[0] &lt;= 58.0</text>\n<text text-anchor=\"middle\" x=\"190\" y=\"-126.8\" font-family=\"Helvetica,sans-Serif\" font-size=\"14.00\" fill=\"#000000\">entropy = 0.663</text>\n<text text-anchor=\"middle\" x=\"190\" y=\"-111.8\" font-family=\"Helvetica,sans-Serif\" font-size=\"14.00\" fill=\"#000000\">samples = 29</text>\n<text text-anchor=\"middle\" x=\"190\" y=\"-96.8\" font-family=\"Helvetica,sans-Serif\" font-size=\"14.00\" fill=\"#000000\">value = [24, 5]</text>\n</g>\n<!-- 1&#45;&gt;2 -->\n<g id=\"edge2\" class=\"edge\">\n<title>1&#45;&gt;2</title>\n<path fill=\"none\" stroke=\"#000000\" d=\"M347.9904,-198.7189C320.358,-185.4757 287.2752,-169.6204 258.5393,-155.8483\"/>\n<polygon fill=\"#000000\" stroke=\"#000000\" points=\"259.9052,-152.6218 249.3746,-151.4561 256.8798,-158.9343 259.9052,-152.6218\"/>\n</g>\n<!-- 5 -->\n<g id=\"node6\" class=\"node\">\n<title>5</title>\n<path fill=\"#9ccef2\" stroke=\"#000000\" d=\"M454,-157C454,-157 360,-157 360,-157 354,-157 348,-151 348,-145 348,-145 348,-101 348,-101 348,-95 354,-89 360,-89 360,-89 454,-89 454,-89 460,-89 466,-95 466,-101 466,-101 466,-145 466,-145 466,-151 460,-157 454,-157\"/>\n<text text-anchor=\"middle\" x=\"407\" y=\"-141.8\" font-family=\"Helvetica,sans-Serif\" font-size=\"14.00\" fill=\"#000000\">X[1] &lt;= 31.124</text>\n<text text-anchor=\"middle\" x=\"407\" y=\"-126.8\" font-family=\"Helvetica,sans-Serif\" font-size=\"14.00\" fill=\"#000000\">entropy = 0.918</text>\n<text text-anchor=\"middle\" x=\"407\" y=\"-111.8\" font-family=\"Helvetica,sans-Serif\" font-size=\"14.00\" fill=\"#000000\">samples = 15</text>\n<text text-anchor=\"middle\" x=\"407\" y=\"-96.8\" font-family=\"Helvetica,sans-Serif\" font-size=\"14.00\" fill=\"#000000\">value = [5, 10]</text>\n</g>\n<!-- 1&#45;&gt;5 -->\n<g id=\"edge5\" class=\"edge\">\n<title>1&#45;&gt;5</title>\n<path fill=\"none\" stroke=\"#000000\" d=\"M407,-192.9465C407,-184.776 407,-175.9318 407,-167.3697\"/>\n<polygon fill=\"#000000\" stroke=\"#000000\" points=\"410.5001,-167.13 407,-157.13 403.5001,-167.13 410.5001,-167.13\"/>\n</g>\n<!-- 3 -->\n<g id=\"node4\" class=\"node\">\n<title>3</title>\n<path fill=\"#f1ba93\" stroke=\"#000000\" d=\"M106,-53C106,-53 12,-53 12,-53 6,-53 0,-47 0,-41 0,-41 0,-12 0,-12 0,-6 6,0 12,0 12,0 106,0 106,0 112,0 118,-6 118,-12 118,-12 118,-41 118,-41 118,-47 112,-53 106,-53\"/>\n<text text-anchor=\"middle\" x=\"59\" y=\"-37.8\" font-family=\"Helvetica,sans-Serif\" font-size=\"14.00\" fill=\"#000000\">entropy = 0.896</text>\n<text text-anchor=\"middle\" x=\"59\" y=\"-22.8\" font-family=\"Helvetica,sans-Serif\" font-size=\"14.00\" fill=\"#000000\">samples = 16</text>\n<text text-anchor=\"middle\" x=\"59\" y=\"-7.8\" font-family=\"Helvetica,sans-Serif\" font-size=\"14.00\" fill=\"#000000\">value = [11, 5]</text>\n</g>\n<!-- 2&#45;&gt;3 -->\n<g id=\"edge3\" class=\"edge\">\n<title>2&#45;&gt;3</title>\n<path fill=\"none\" stroke=\"#000000\" d=\"M143.8143,-88.9777C130.7621,-79.3629 116.5861,-68.9203 103.6273,-59.3743\"/>\n<polygon fill=\"#000000\" stroke=\"#000000\" points=\"105.4386,-56.3615 95.3114,-53.2485 101.2869,-61.9974 105.4386,-56.3615\"/>\n</g>\n<!-- 4 -->\n<g id=\"node5\" class=\"node\">\n<title>4</title>\n<path fill=\"#e58139\" stroke=\"#000000\" d=\"M231.5,-53C231.5,-53 148.5,-53 148.5,-53 142.5,-53 136.5,-47 136.5,-41 136.5,-41 136.5,-12 136.5,-12 136.5,-6 142.5,0 148.5,0 148.5,0 231.5,0 231.5,0 237.5,0 243.5,-6 243.5,-12 243.5,-12 243.5,-41 243.5,-41 243.5,-47 237.5,-53 231.5,-53\"/>\n<text text-anchor=\"middle\" x=\"190\" y=\"-37.8\" font-family=\"Helvetica,sans-Serif\" font-size=\"14.00\" fill=\"#000000\">entropy = 0.0</text>\n<text text-anchor=\"middle\" x=\"190\" y=\"-22.8\" font-family=\"Helvetica,sans-Serif\" font-size=\"14.00\" fill=\"#000000\">samples = 13</text>\n<text text-anchor=\"middle\" x=\"190\" y=\"-7.8\" font-family=\"Helvetica,sans-Serif\" font-size=\"14.00\" fill=\"#000000\">value = [13, 0]</text>\n</g>\n<!-- 2&#45;&gt;4 -->\n<g id=\"edge4\" class=\"edge\">\n<title>2&#45;&gt;4</title>\n<path fill=\"none\" stroke=\"#000000\" d=\"M190,-88.9777C190,-80.7364 190,-71.887 190,-63.5153\"/>\n<polygon fill=\"#000000\" stroke=\"#000000\" points=\"193.5001,-63.2484 190,-53.2485 186.5001,-63.2485 193.5001,-63.2484\"/>\n</g>\n<!-- 6 -->\n<g id=\"node7\" class=\"node\">\n<title>6</title>\n<path fill=\"#399de5\" stroke=\"#000000\" d=\"M356.5,-53C356.5,-53 273.5,-53 273.5,-53 267.5,-53 261.5,-47 261.5,-41 261.5,-41 261.5,-12 261.5,-12 261.5,-6 267.5,0 273.5,0 273.5,0 356.5,0 356.5,0 362.5,0 368.5,-6 368.5,-12 368.5,-12 368.5,-41 368.5,-41 368.5,-47 362.5,-53 356.5,-53\"/>\n<text text-anchor=\"middle\" x=\"315\" y=\"-37.8\" font-family=\"Helvetica,sans-Serif\" font-size=\"14.00\" fill=\"#000000\">entropy = 0.0</text>\n<text text-anchor=\"middle\" x=\"315\" y=\"-22.8\" font-family=\"Helvetica,sans-Serif\" font-size=\"14.00\" fill=\"#000000\">samples = 10</text>\n<text text-anchor=\"middle\" x=\"315\" y=\"-7.8\" font-family=\"Helvetica,sans-Serif\" font-size=\"14.00\" fill=\"#000000\">value = [0, 10]</text>\n</g>\n<!-- 5&#45;&gt;6 -->\n<g id=\"edge6\" class=\"edge\">\n<title>5&#45;&gt;6</title>\n<path fill=\"none\" stroke=\"#000000\" d=\"M374.5642,-88.9777C365.8343,-79.8207 356.3885,-69.9129 347.6471,-60.744\"/>\n<polygon fill=\"#000000\" stroke=\"#000000\" points=\"349.9347,-58.0712 340.5011,-53.2485 344.8682,-62.9014 349.9347,-58.0712\"/>\n</g>\n<!-- 7 -->\n<g id=\"node8\" class=\"node\">\n<title>7</title>\n<path fill=\"#e58139\" stroke=\"#000000\" d=\"M475.5,-53C475.5,-53 398.5,-53 398.5,-53 392.5,-53 386.5,-47 386.5,-41 386.5,-41 386.5,-12 386.5,-12 386.5,-6 392.5,0 398.5,0 398.5,0 475.5,0 475.5,0 481.5,0 487.5,-6 487.5,-12 487.5,-12 487.5,-41 487.5,-41 487.5,-47 481.5,-53 475.5,-53\"/>\n<text text-anchor=\"middle\" x=\"437\" y=\"-37.8\" font-family=\"Helvetica,sans-Serif\" font-size=\"14.00\" fill=\"#000000\">entropy = 0.0</text>\n<text text-anchor=\"middle\" x=\"437\" y=\"-22.8\" font-family=\"Helvetica,sans-Serif\" font-size=\"14.00\" fill=\"#000000\">samples = 5</text>\n<text text-anchor=\"middle\" x=\"437\" y=\"-7.8\" font-family=\"Helvetica,sans-Serif\" font-size=\"14.00\" fill=\"#000000\">value = [5, 0]</text>\n</g>\n<!-- 5&#45;&gt;7 -->\n<g id=\"edge7\" class=\"edge\">\n<title>5&#45;&gt;7</title>\n<path fill=\"none\" stroke=\"#000000\" d=\"M417.5769,-88.9777C420.1959,-80.5533 423.0124,-71.4934 425.6659,-62.9579\"/>\n<polygon fill=\"#000000\" stroke=\"#000000\" points=\"429.0579,-63.8367 428.6844,-53.2485 422.3735,-61.7586 429.0579,-63.8367\"/>\n</g>\n<!-- 9 -->\n<g id=\"node10\" class=\"node\">\n<title>9</title>\n<path fill=\"#54abe9\" stroke=\"#000000\" d=\"M642.5,-157C642.5,-157 547.5,-157 547.5,-157 541.5,-157 535.5,-151 535.5,-145 535.5,-145 535.5,-101 535.5,-101 535.5,-95 541.5,-89 547.5,-89 547.5,-89 642.5,-89 642.5,-89 648.5,-89 654.5,-95 654.5,-101 654.5,-101 654.5,-145 654.5,-145 654.5,-151 648.5,-157 642.5,-157\"/>\n<text text-anchor=\"middle\" x=\"595\" y=\"-141.8\" font-family=\"Helvetica,sans-Serif\" font-size=\"14.00\" fill=\"#000000\">X[8] &lt;= 278.311</text>\n<text text-anchor=\"middle\" x=\"595\" y=\"-126.8\" font-family=\"Helvetica,sans-Serif\" font-size=\"14.00\" fill=\"#000000\">entropy = 0.533</text>\n<text text-anchor=\"middle\" x=\"595\" y=\"-111.8\" font-family=\"Helvetica,sans-Serif\" font-size=\"14.00\" fill=\"#000000\">samples = 33</text>\n<text text-anchor=\"middle\" x=\"595\" y=\"-96.8\" font-family=\"Helvetica,sans-Serif\" font-size=\"14.00\" fill=\"#000000\">value = [4, 29]</text>\n</g>\n<!-- 8&#45;&gt;9 -->\n<g id=\"edge9\" class=\"edge\">\n<title>8&#45;&gt;9</title>\n<path fill=\"none\" stroke=\"#000000\" d=\"M595,-192.9465C595,-184.776 595,-175.9318 595,-167.3697\"/>\n<polygon fill=\"#000000\" stroke=\"#000000\" points=\"598.5001,-167.13 595,-157.13 591.5001,-167.13 598.5001,-167.13\"/>\n</g>\n<!-- 12 -->\n<g id=\"node13\" class=\"node\">\n<title>12</title>\n<path fill=\"#eeab7b\" stroke=\"#000000\" d=\"M865,-157C865,-157 771,-157 771,-157 765,-157 759,-151 759,-145 759,-145 759,-101 759,-101 759,-95 765,-89 771,-89 771,-89 865,-89 865,-89 871,-89 877,-95 877,-101 877,-101 877,-145 877,-145 877,-151 871,-157 865,-157\"/>\n<text text-anchor=\"middle\" x=\"818\" y=\"-141.8\" font-family=\"Helvetica,sans-Serif\" font-size=\"14.00\" fill=\"#000000\">X[2] &lt;= 120.0</text>\n<text text-anchor=\"middle\" x=\"818\" y=\"-126.8\" font-family=\"Helvetica,sans-Serif\" font-size=\"14.00\" fill=\"#000000\">entropy = 0.811</text>\n<text text-anchor=\"middle\" x=\"818\" y=\"-111.8\" font-family=\"Helvetica,sans-Serif\" font-size=\"14.00\" fill=\"#000000\">samples = 4</text>\n<text text-anchor=\"middle\" x=\"818\" y=\"-96.8\" font-family=\"Helvetica,sans-Serif\" font-size=\"14.00\" fill=\"#000000\">value = [3, 1]</text>\n</g>\n<!-- 8&#45;&gt;12 -->\n<g id=\"edge12\" class=\"edge\">\n<title>8&#45;&gt;12</title>\n<path fill=\"none\" stroke=\"#000000\" d=\"M650.6971,-201.0247C680.638,-187.0612 717.8121,-169.7244 749.5095,-154.9418\"/>\n<polygon fill=\"#000000\" stroke=\"#000000\" points=\"751.1404,-158.0431 758.7239,-150.6445 748.1817,-151.6991 751.1404,-158.0431\"/>\n</g>\n<!-- 10 -->\n<g id=\"node11\" class=\"node\">\n<title>10</title>\n<path fill=\"#bddef6\" stroke=\"#000000\" d=\"M612,-53C612,-53 518,-53 518,-53 512,-53 506,-47 506,-41 506,-41 506,-12 506,-12 506,-6 512,0 518,0 518,0 612,0 612,0 618,0 624,-6 624,-12 624,-12 624,-41 624,-41 624,-47 618,-53 612,-53\"/>\n<text text-anchor=\"middle\" x=\"565\" y=\"-37.8\" font-family=\"Helvetica,sans-Serif\" font-size=\"14.00\" fill=\"#000000\">entropy = 0.971</text>\n<text text-anchor=\"middle\" x=\"565\" y=\"-22.8\" font-family=\"Helvetica,sans-Serif\" font-size=\"14.00\" fill=\"#000000\">samples = 10</text>\n<text text-anchor=\"middle\" x=\"565\" y=\"-7.8\" font-family=\"Helvetica,sans-Serif\" font-size=\"14.00\" fill=\"#000000\">value = [4, 6]</text>\n</g>\n<!-- 9&#45;&gt;10 -->\n<g id=\"edge10\" class=\"edge\">\n<title>9&#45;&gt;10</title>\n<path fill=\"none\" stroke=\"#000000\" d=\"M584.4231,-88.9777C581.8041,-80.5533 578.9876,-71.4934 576.3341,-62.9579\"/>\n<polygon fill=\"#000000\" stroke=\"#000000\" points=\"579.6265,-61.7586 573.3156,-53.2485 572.9421,-63.8367 579.6265,-61.7586\"/>\n</g>\n<!-- 11 -->\n<g id=\"node12\" class=\"node\">\n<title>11</title>\n<path fill=\"#399de5\" stroke=\"#000000\" d=\"M737.5,-53C737.5,-53 654.5,-53 654.5,-53 648.5,-53 642.5,-47 642.5,-41 642.5,-41 642.5,-12 642.5,-12 642.5,-6 648.5,0 654.5,0 654.5,0 737.5,0 737.5,0 743.5,0 749.5,-6 749.5,-12 749.5,-12 749.5,-41 749.5,-41 749.5,-47 743.5,-53 737.5,-53\"/>\n<text text-anchor=\"middle\" x=\"696\" y=\"-37.8\" font-family=\"Helvetica,sans-Serif\" font-size=\"14.00\" fill=\"#000000\">entropy = 0.0</text>\n<text text-anchor=\"middle\" x=\"696\" y=\"-22.8\" font-family=\"Helvetica,sans-Serif\" font-size=\"14.00\" fill=\"#000000\">samples = 23</text>\n<text text-anchor=\"middle\" x=\"696\" y=\"-7.8\" font-family=\"Helvetica,sans-Serif\" font-size=\"14.00\" fill=\"#000000\">value = [0, 23]</text>\n</g>\n<!-- 9&#45;&gt;11 -->\n<g id=\"edge11\" class=\"edge\">\n<title>9&#45;&gt;11</title>\n<path fill=\"none\" stroke=\"#000000\" d=\"M630.6088,-88.9777C640.3845,-79.6376 650.9777,-69.5163 660.734,-60.1947\"/>\n<polygon fill=\"#000000\" stroke=\"#000000\" points=\"663.1917,-62.6873 668.0042,-53.2485 658.356,-57.6261 663.1917,-62.6873\"/>\n</g>\n<!-- 13 -->\n<g id=\"node14\" class=\"node\">\n<title>13</title>\n<path fill=\"#e58139\" stroke=\"#000000\" d=\"M856.5,-53C856.5,-53 779.5,-53 779.5,-53 773.5,-53 767.5,-47 767.5,-41 767.5,-41 767.5,-12 767.5,-12 767.5,-6 773.5,0 779.5,0 779.5,0 856.5,0 856.5,0 862.5,0 868.5,-6 868.5,-12 868.5,-12 868.5,-41 868.5,-41 868.5,-47 862.5,-53 856.5,-53\"/>\n<text text-anchor=\"middle\" x=\"818\" y=\"-37.8\" font-family=\"Helvetica,sans-Serif\" font-size=\"14.00\" fill=\"#000000\">entropy = 0.0</text>\n<text text-anchor=\"middle\" x=\"818\" y=\"-22.8\" font-family=\"Helvetica,sans-Serif\" font-size=\"14.00\" fill=\"#000000\">samples = 3</text>\n<text text-anchor=\"middle\" x=\"818\" y=\"-7.8\" font-family=\"Helvetica,sans-Serif\" font-size=\"14.00\" fill=\"#000000\">value = [3, 0]</text>\n</g>\n<!-- 12&#45;&gt;13 -->\n<g id=\"edge13\" class=\"edge\">\n<title>12&#45;&gt;13</title>\n<path fill=\"none\" stroke=\"#000000\" d=\"M818,-88.9777C818,-80.7364 818,-71.887 818,-63.5153\"/>\n<polygon fill=\"#000000\" stroke=\"#000000\" points=\"821.5001,-63.2484 818,-53.2485 814.5001,-63.2485 821.5001,-63.2484\"/>\n</g>\n<!-- 14 -->\n<g id=\"node15\" class=\"node\">\n<title>14</title>\n<path fill=\"#399de5\" stroke=\"#000000\" d=\"M975.5,-53C975.5,-53 898.5,-53 898.5,-53 892.5,-53 886.5,-47 886.5,-41 886.5,-41 886.5,-12 886.5,-12 886.5,-6 892.5,0 898.5,0 898.5,0 975.5,0 975.5,0 981.5,0 987.5,-6 987.5,-12 987.5,-12 987.5,-41 987.5,-41 987.5,-47 981.5,-53 975.5,-53\"/>\n<text text-anchor=\"middle\" x=\"937\" y=\"-37.8\" font-family=\"Helvetica,sans-Serif\" font-size=\"14.00\" fill=\"#000000\">entropy = 0.0</text>\n<text text-anchor=\"middle\" x=\"937\" y=\"-22.8\" font-family=\"Helvetica,sans-Serif\" font-size=\"14.00\" fill=\"#000000\">samples = 1</text>\n<text text-anchor=\"middle\" x=\"937\" y=\"-7.8\" font-family=\"Helvetica,sans-Serif\" font-size=\"14.00\" fill=\"#000000\">value = [0, 1]</text>\n</g>\n<!-- 12&#45;&gt;14 -->\n<g id=\"edge14\" class=\"edge\">\n<title>12&#45;&gt;14</title>\n<path fill=\"none\" stroke=\"#000000\" d=\"M859.9549,-88.9777C871.6986,-79.4545 884.4438,-69.1191 896.124,-59.6473\"/>\n<polygon fill=\"#000000\" stroke=\"#000000\" points=\"898.4522,-62.2656 904.0148,-53.2485 894.0432,-56.8286 898.4522,-62.2656\"/>\n</g>\n</g>\n</svg>\n"
          },
          "metadata": {},
          "execution_count": 16
        }
      ]
    },
    {
      "cell_type": "code",
      "source": [],
      "metadata": {
        "id": "Yucl_BLo3SZM"
      },
      "execution_count": null,
      "outputs": []
    }
  ]
}